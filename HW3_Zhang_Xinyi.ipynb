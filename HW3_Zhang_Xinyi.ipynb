{
 "cells": [
  {
   "cell_type": "code",
   "execution_count": 2,
   "id": "db280562",
   "metadata": {},
   "outputs": [],
   "source": [
    "#Question 0\n",
    "marks = {'Andy':88, 'Amy':66, 'James': 90, 'Jules': 55, 'Arthur': 77}"
   ]
  },
  {
   "cell_type": "code",
   "execution_count": 4,
   "id": "51c78915",
   "metadata": {},
   "outputs": [
    {
     "name": "stdout",
     "output_type": "stream",
     "text": [
      "Andy 88\n",
      "Amy 66\n",
      "James 90\n",
      "Jules 55\n",
      "Arthur 77\n"
     ]
    }
   ],
   "source": [
    "#Question 1\n",
    "for name,grade in marks.items():\n",
    "    print(name,grade)"
   ]
  },
  {
   "cell_type": "code",
   "execution_count": 10,
   "id": "f170f710",
   "metadata": {},
   "outputs": [
    {
     "data": {
      "text/plain": [
       "75.2"
      ]
     },
     "execution_count": 10,
     "metadata": {},
     "output_type": "execute_result"
    }
   ],
   "source": [
    "#Question 2\n",
    "import statistics\n",
    "statistics.mean(marks.values())"
   ]
  },
  {
   "cell_type": "code",
   "execution_count": 11,
   "id": "1e9ad21e",
   "metadata": {},
   "outputs": [
    {
     "data": {
      "text/plain": [
       "90"
      ]
     },
     "execution_count": 11,
     "metadata": {},
     "output_type": "execute_result"
    }
   ],
   "source": [
    "max(marks.values())"
   ]
  },
  {
   "cell_type": "code",
   "execution_count": 12,
   "id": "57717a20",
   "metadata": {},
   "outputs": [
    {
     "data": {
      "text/plain": [
       "55"
      ]
     },
     "execution_count": 12,
     "metadata": {},
     "output_type": "execute_result"
    }
   ],
   "source": [
    "min(marks.values())"
   ]
  },
  {
   "cell_type": "code",
   "execution_count": 20,
   "id": "ae1e6228",
   "metadata": {},
   "outputs": [
    {
     "name": "stdout",
     "output_type": "stream",
     "text": [
      "Andy\n",
      "Amy\n"
     ]
    }
   ],
   "source": [
    "#Question 3\n",
    "for marks_grade in marks.keys():\n",
    "    if \"J\" in marks_grade:\n",
    "        break\n",
    "    print(marks_grade)\n"
   ]
  },
  {
   "cell_type": "code",
   "execution_count": 19,
   "id": "63f10437",
   "metadata": {},
   "outputs": [
    {
     "name": "stdout",
     "output_type": "stream",
     "text": [
      "Andy\n",
      "Amy\n",
      "Arthur\n"
     ]
    }
   ],
   "source": [
    "#Question 4\n",
    "for marks_grade in marks.keys():\n",
    "    if \"J\" in marks_grade:\n",
    "        continue\n",
    "    print(marks_grade)"
   ]
  },
  {
   "cell_type": "code",
   "execution_count": 40,
   "id": "af81c655",
   "metadata": {},
   "outputs": [
    {
     "name": "stdout",
     "output_type": "stream",
     "text": [
      "88\n",
      "66\n",
      "90\n",
      "55\n",
      "77\n",
      "You cannot find this student's name\n"
     ]
    }
   ],
   "source": [
    "#Question 5\n",
    "def function(student_name):\n",
    "    for students in marks: \n",
    "        if students == student_name:\n",
    "            print(marks[students])\n",
    "            break     \n",
    "    else:\n",
    "        print(\"You cannot find this student\\'s name\")\n",
    "function('Andy')\n",
    "function('Amy')\n",
    "function('James')\n",
    "function('Jules')\n",
    "function('Arthur')\n",
    "function('Jack')"
   ]
  },
  {
   "cell_type": "code",
   "execution_count": 57,
   "id": "231ff7f5",
   "metadata": {},
   "outputs": [],
   "source": [
    "#Question 6\n",
    "def less_than(num):\n",
    "    n=0\n",
    "    while n<num:\n",
    "        print(n,pow(n,2)) \n",
    "        n += 1\n",
    "    else: \n",
    "        print(\"greater than\",num)"
   ]
  },
  {
   "cell_type": "code",
   "execution_count": 58,
   "id": "106aee81",
   "metadata": {},
   "outputs": [
    {
     "name": "stdout",
     "output_type": "stream",
     "text": [
      "0 0\n",
      "1 1\n",
      "2 4\n",
      "3 9\n",
      "4 16\n",
      "5 25\n",
      "6 36\n",
      "7 49\n",
      "greater than 8\n"
     ]
    }
   ],
   "source": [
    "less_than(8)"
   ]
  },
  {
   "cell_type": "code",
   "execution_count": 51,
   "id": "c7431e0e",
   "metadata": {},
   "outputs": [],
   "source": [
    "#Question 7\n",
    "def sum1(num):\n",
    "    sum = 0\n",
    "    i = 1\n",
    "    while i<=num:\n",
    "        sum += i\n",
    "        i += 1\n",
    "    return sum\n"
   ]
  },
  {
   "cell_type": "code",
   "execution_count": 52,
   "id": "c85fbb4e",
   "metadata": {},
   "outputs": [
    {
     "data": {
      "text/plain": [
       "36"
      ]
     },
     "execution_count": 52,
     "metadata": {},
     "output_type": "execute_result"
    }
   ],
   "source": [
    "sum1(8)"
   ]
  },
  {
   "cell_type": "code",
   "execution_count": 60,
   "id": "35a1f567",
   "metadata": {},
   "outputs": [],
   "source": [
    "#Question 9\n",
    "def sum2(num):\n",
    "    sum=0\n",
    "    n=1\n",
    "    for n in range(num):\n",
    "        sum += n\n",
    "        print(sum)"
   ]
  },
  {
   "cell_type": "code",
   "execution_count": 61,
   "id": "cb1867e9",
   "metadata": {},
   "outputs": [
    {
     "name": "stdout",
     "output_type": "stream",
     "text": [
      "0\n",
      "1\n",
      "3\n",
      "6\n",
      "10\n",
      "15\n",
      "21\n",
      "28\n",
      "36\n"
     ]
    }
   ],
   "source": [
    "sum2(9)"
   ]
  },
  {
   "cell_type": "code",
   "execution_count": 48,
   "id": "4710660c",
   "metadata": {},
   "outputs": [
    {
     "data": {
      "text/plain": [
       "2"
      ]
     },
     "execution_count": 48,
     "metadata": {},
     "output_type": "execute_result"
    }
   ],
   "source": [
    "#Question 10\n",
    "def minimal(v1,v2,v3,v4):\n",
    "    minimum_value=v1\n",
    "    if v2 < minimum_value:\n",
    "        minimum_value = v2\n",
    "    if v3 < minimum_value:\n",
    "        minimum_value = v3\n",
    "    if v4 < minimum_value:\n",
    "        minimum_value = v4\n",
    "    return minimum_value\n",
    "\n",
    "minimal(2,5,8,9)"
   ]
  }
 ],
 "metadata": {
  "kernelspec": {
   "display_name": "Python 3",
   "language": "python",
   "name": "python3"
  },
  "language_info": {
   "codemirror_mode": {
    "name": "ipython",
    "version": 3
   },
   "file_extension": ".py",
   "mimetype": "text/x-python",
   "name": "python",
   "nbconvert_exporter": "python",
   "pygments_lexer": "ipython3",
   "version": "3.8.8"
  }
 },
 "nbformat": 4,
 "nbformat_minor": 5
}
