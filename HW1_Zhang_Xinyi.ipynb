{
 "cells": [
  {
   "cell_type": "code",
   "execution_count": 55,
   "id": "78c22c34",
   "metadata": {},
   "outputs": [],
   "source": [
    "colors = [\"pink\",\"red\",\"green\",\"blue\",\"white\"]"
   ]
  },
  {
   "cell_type": "code",
   "execution_count": 56,
   "id": "d62675b1",
   "metadata": {},
   "outputs": [
    {
     "name": "stdout",
     "output_type": "stream",
     "text": [
      "[30, 33, 36, 39, 42, 45, 48, 51, 54, 57, 60]\n"
     ]
    }
   ],
   "source": [
    "nums = list(range(30,63,3))\n",
    "print(nums)"
   ]
  },
  {
   "cell_type": "code",
   "execution_count": 57,
   "id": "a6880e49",
   "metadata": {},
   "outputs": [
    {
     "name": "stdout",
     "output_type": "stream",
     "text": [
      "(30, 33, 36, 39, 42, 45, 48, 51, 54, 57, 60)\n"
     ]
    }
   ],
   "source": [
    "nums1 = tuple(nums)\n",
    "nums1 = (30, 33, 36, 39, 42, 45, 48, 51, 54, 57, 60)\n",
    "print(nums1)"
   ]
  },
  {
   "cell_type": "code",
   "execution_count": 58,
   "id": "de265ea9",
   "metadata": {},
   "outputs": [],
   "source": [
    "#empty list\n",
    "empty_list = []"
   ]
  },
  {
   "cell_type": "code",
   "execution_count": 59,
   "id": "60b4d1d8",
   "metadata": {},
   "outputs": [
    {
     "name": "stdout",
     "output_type": "stream",
     "text": [
      "[0, 1, 2, 3, 4, 5]\n"
     ]
    }
   ],
   "source": [
    "for number in range(0, 6):\n",
    "    empty_list += [number]\n",
    "print(empty_list)"
   ]
  },
  {
   "cell_type": "code",
   "execution_count": 60,
   "id": "9f16540c",
   "metadata": {},
   "outputs": [
    {
     "name": "stdout",
     "output_type": "stream",
     "text": [
      "[0, 1, 3, 4, 5]\n"
     ]
    }
   ],
   "source": [
    "del empty_list[2]\n",
    "print(empty_list)"
   ]
  },
  {
   "cell_type": "code",
   "execution_count": 61,
   "id": "53ad6819",
   "metadata": {},
   "outputs": [
    {
     "name": "stdout",
     "output_type": "stream",
     "text": [
      "[0, 1, 2.0, 3, 4, 5]\n"
     ]
    }
   ],
   "source": [
    "empty_list.insert(2,2.0)\n",
    "print(empty_list)"
   ]
  },
  {
   "cell_type": "code",
   "execution_count": 62,
   "id": "3966a3b8",
   "metadata": {},
   "outputs": [
    {
     "name": "stdout",
     "output_type": "stream",
     "text": [
      "6\n",
      "5\n",
      "0\n"
     ]
    }
   ],
   "source": [
    "print(len(empty_list))\n",
    "print(max(empty_list))\n",
    "print(min(empty_list))"
   ]
  },
  {
   "cell_type": "code",
   "execution_count": 63,
   "id": "b9c846fe",
   "metadata": {},
   "outputs": [
    {
     "name": "stdout",
     "output_type": "stream",
     "text": [
      "[1, 2, 3, 4, 5, 6, 7, 8, 9, 10]\n"
     ]
    }
   ],
   "source": [
    "nums2 = list(range(1,11))\n",
    "print(nums2)"
   ]
  },
  {
   "cell_type": "code",
   "execution_count": 64,
   "id": "733c1a90",
   "metadata": {},
   "outputs": [
    {
     "data": {
      "text/plain": [
       "55"
      ]
     },
     "execution_count": 64,
     "metadata": {},
     "output_type": "execute_result"
    }
   ],
   "source": [
    "nums2[0]+nums2[1]+nums2[2]+nums2[3]+nums2[4]+nums2[5]+nums2[6]+nums2[7]+nums2[8]+nums2[9]"
   ]
  }
 ],
 "metadata": {
  "kernelspec": {
   "display_name": "Python 3",
   "language": "python",
   "name": "python3"
  },
  "language_info": {
   "codemirror_mode": {
    "name": "ipython",
    "version": 3
   },
   "file_extension": ".py",
   "mimetype": "text/x-python",
   "name": "python",
   "nbconvert_exporter": "python",
   "pygments_lexer": "ipython3",
   "version": "3.8.8"
  }
 },
 "nbformat": 4,
 "nbformat_minor": 5
}
