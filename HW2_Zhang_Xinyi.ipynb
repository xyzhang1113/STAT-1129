{
 "cells": [
  {
   "cell_type": "code",
   "execution_count": 131,
   "id": "49d20ab7",
   "metadata": {},
   "outputs": [
    {
     "name": "stdout",
     "output_type": "stream",
     "text": [
      "0\n",
      "1\n",
      "2\n",
      "3\n",
      "4\n"
     ]
    }
   ],
   "source": [
    "# Question 1\n",
    "n = 0\n",
    "while n<10:\n",
    "    print(n)\n",
    "    n += 1\n",
    "    if n==5:\n",
    "        break\n",
    "    "
   ]
  },
  {
   "cell_type": "code",
   "execution_count": 132,
   "id": "14abce59",
   "metadata": {},
   "outputs": [
    {
     "name": "stdout",
     "output_type": "stream",
     "text": [
      "0\n",
      "1\n",
      "2\n",
      "3\n",
      "4\n",
      "5 is not less than 5\n"
     ]
    }
   ],
   "source": [
    "# Question 2\n",
    "n = 0\n",
    "while n<5:\n",
    "    print(n)\n",
    "    n = n + 1\n",
    "else:\n",
    "    print(n,\"is not less than 5\")"
   ]
  },
  {
   "cell_type": "code",
   "execution_count": 133,
   "id": "6b0a51c8",
   "metadata": {},
   "outputs": [
    {
     "name": "stdout",
     "output_type": "stream",
     "text": [
      "I like orange\n",
      "I like tomato\n",
      "apple is really a fruit?\n"
     ]
    }
   ],
   "source": [
    "# Question 3\n",
    "fruitslist = [\"orange\",\"tomato\",\"apple\",\"banana\"]\n",
    "for fruits in fruitslist:\n",
    "    if fruits==\"apple\":\n",
    "        print(fruits,\"is really a fruit?\")\n",
    "        break\n",
    "    print(\"I like\",fruits)\n",
    "        "
   ]
  },
  {
   "cell_type": "code",
   "execution_count": 134,
   "id": "76171007",
   "metadata": {},
   "outputs": [
    {
     "name": "stdout",
     "output_type": "stream",
     "text": [
      "The sum is 465\n"
     ]
    }
   ],
   "source": [
    "# Question 4\n",
    "n=30\n",
    "sum=0\n",
    "i=1\n",
    "\n",
    "while i<=n:\n",
    "    sum=sum+i\n",
    "    i=i+1\n",
    "    \n",
    "print(\"The sum is\",sum)"
   ]
  },
  {
   "cell_type": "code",
   "execution_count": 135,
   "id": "5503d4b5",
   "metadata": {},
   "outputs": [
    {
     "name": "stdout",
     "output_type": "stream",
     "text": [
      "When sunny let us play\n",
      "When rainy let us watch TV\n",
      "When cloudy let us walk\n"
     ]
    }
   ],
   "source": [
    "# Question 5\n",
    "weathers = {\"sunny\":\"play\",\"rainy\":\"watch TV\",\"cloudy\":\"walk\"}\n",
    "for weather,activity in weathers.items():\n",
    "    print(f'When {weather} let us {activity}')"
   ]
  },
  {
   "cell_type": "code",
   "execution_count": 136,
   "id": "c75ff723",
   "metadata": {},
   "outputs": [
    {
     "name": "stdout",
     "output_type": "stream",
     "text": [
      "{'sunny': 'play', 'rainy': 'watch TV', 'cloudy': 'walk', 'snowy': 'ski'}\n"
     ]
    }
   ],
   "source": [
    "weathers.update({\"snowy\":\"ski\"})\n",
    "print(weathers)"
   ]
  },
  {
   "cell_type": "code",
   "execution_count": 151,
   "id": "67ec4d0d",
   "metadata": {},
   "outputs": [
    {
     "name": "stdout",
     "output_type": "stream",
     "text": [
      "When sunny let us play\n",
      "When rainy let us watch TV\n",
      "When cloudy let us walk\n"
     ]
    }
   ],
   "source": [
    "# Question 6\n",
    "weathers = {\"sunny\":\"play\",\"rainy\":\"watch TV\",\"cloudy\":\"walk\"}\n",
    "for k in weathers.keys():\n",
    "    if (k == \"sunny\"):\n",
    "            print(\"When\",k,\"let us play\")\n",
    "    if (k == \"rainy\"):\n",
    "            print(\"When\",k,\"let us watch TV\")\n",
    "    if (k == \"cloudy\"):\n",
    "            print(\"When\",k,\"let us walk\")\n",
    "    else:\n",
    "        continue"
   ]
  },
  {
   "cell_type": "code",
   "execution_count": 138,
   "id": "fe8973d4",
   "metadata": {},
   "outputs": [
    {
     "name": "stdout",
     "output_type": "stream",
     "text": [
      "The student's grade is F\n"
     ]
    }
   ],
   "source": [
    "# Question 7\n",
    "score = 55\n",
    "if score >= 90:\n",
    "    print(\"The student's grade is A\")\n",
    "elif score in range(80,90):\n",
    "    print(\"The student's grade is B\")\n",
    "elif score in range(70,80):\n",
    "    print(\"The student's grade is C\")\n",
    "elif score in range(60,70):\n",
    "    print(\"The student's grade is D\")\n",
    "else:\n",
    "    print(\"The student's grade is F\")"
   ]
  }
 ],
 "metadata": {
  "kernelspec": {
   "display_name": "Python 3",
   "language": "python",
   "name": "python3"
  },
  "language_info": {
   "codemirror_mode": {
    "name": "ipython",
    "version": 3
   },
   "file_extension": ".py",
   "mimetype": "text/x-python",
   "name": "python",
   "nbconvert_exporter": "python",
   "pygments_lexer": "ipython3",
   "version": "3.8.8"
  }
 },
 "nbformat": 4,
 "nbformat_minor": 5
}
